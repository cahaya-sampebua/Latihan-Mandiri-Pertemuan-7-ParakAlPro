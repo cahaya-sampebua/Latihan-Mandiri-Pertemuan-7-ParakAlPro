{
  "nbformat": 4,
  "nbformat_minor": 0,
  "metadata": {
    "colab": {
      "provenance": []
    },
    "kernelspec": {
      "name": "python3",
      "display_name": "Python 3"
    },
    "language_info": {
      "name": "python"
    }
  },
  "cells": [
    {
      "cell_type": "code",
      "execution_count": null,
      "metadata": {
        "id": "9ZBUgtZF9lbs"
      },
      "outputs": [],
      "source": [
        "#Soal 1\n",
        "\n",
        "kata_1 = input(\"Masukkan kata pertama : \")\n",
        "kata_2 = input(\"Masukkan kata kedua : \")\n",
        "\n",
        "hasil_1 = \"\"\n",
        "hasil_2 = \"\"\n",
        "\n",
        "for i in kata_1:\n",
        "    hasil_1 = hasil_1 + i + \" \"\n",
        "\n",
        "for i in kata_2:\n",
        "    hasil_2 = hasil_2 + i + \" \"\n",
        "\n",
        "hasil_1 = hasil_1.strip(\" \")\n",
        "hasil_2 = hasil_2.strip(\" \")\n",
        "\n",
        "hasil_1 = hasil_1.split(\" \")\n",
        "hasil_2 = hasil_2.split(\" \")\n",
        "\n",
        "if sorted(hasil_1) == sorted(hasil_2):\n",
        "    print(\"Kedua kata ini anagram.\")\n",
        "else:\n",
        "    print(\"Bukan anagram.\")"
      ]
    },
    {
      "cell_type": "code",
      "source": [
        "#Soal 2\n",
        "\n",
        "kalimat = input(\"Masukkan kalimat : \")\n",
        "\n",
        "kalimat = kalimat.lower()\n",
        "kalimat = kalimat.split(\" \")\n",
        "\n",
        "kata = input(\"Masukkan kata yang ingin dihitung : \")\n",
        "\n",
        "kalimat_baru = \" \"\n",
        "\n",
        "for i in kalimat:\n",
        "    i = \"\".join([j for j in i if j.isalpha()])\n",
        "    if i.isalpha():\n",
        "        kalimat_baru = kalimat_baru + i + \" \"\n",
        "\n",
        "kalimat_baru = kalimat_baru.strip(\" \")\n",
        "kalimat_baru = kalimat_baru.split(\" \")\n",
        "\n",
        "count = kalimat_baru.count(kata)\n",
        "\n",
        "print(\"{} ada {} buah.\".format(kata,count))"
      ],
      "metadata": {
        "id": "ZQ7sLJlpPphr"
      },
      "execution_count": null,
      "outputs": []
    },
    {
      "cell_type": "code",
      "source": [
        "#Soal 3\n",
        "\n",
        "kalimat = input(\"Masukkan kalimat : \")\n",
        "\n",
        "kalimat = kalimat.split(\" \")\n",
        "\n",
        "kalimat_baru = \"\"\n",
        "\n",
        "for i in kalimat:\n",
        "    if i.isalpha():\n",
        "        kalimat_baru = kalimat_baru + i + \" \"\n",
        "\n",
        "kalimat_baru = kalimat_baru.strip(\" \")\n",
        "\n",
        "print(kalimat_baru)"
      ],
      "metadata": {
        "id": "TQIyzsyzQCre"
      },
      "execution_count": null,
      "outputs": []
    },
    {
      "cell_type": "code",
      "source": [
        "#Soal 4\n",
        "\n",
        "kalimat = input(\"Masukkan kalimat : \")\n",
        "\n",
        "kalimat_baru = kalimat.split(\" \")\n",
        "\n",
        "terpendek = kalimat_baru[0]\n",
        "terpanjang = kalimat_baru[0]\n",
        "\n",
        "for i in kalimat_baru:\n",
        "    if len(i) > len(terpanjang):\n",
        "        terpanjang = i\n",
        "    if len(i) < len(terpendek):\n",
        "        terpendek = i\n",
        "\n",
        "print(\"Terpendek :\",terpendek)\n",
        "print(\"Terpanjang :\",terpanjang)"
      ],
      "metadata": {
        "colab": {
          "base_uri": "https://localhost:8080/"
        },
        "id": "zi83FHGNSZNl",
        "outputId": "0c300fed-fa3f-4641-aa24-58bef3fa3faa"
      },
      "execution_count": 43,
      "outputs": [
        {
          "output_type": "stream",
          "name": "stdout",
          "text": [
            "Masukkan kalimat : red snakes and a black frog in the pool\n",
            "Terpendek : a\n",
            "Terpanjang : snakes\n"
          ]
        }
      ]
    }
  ]
}